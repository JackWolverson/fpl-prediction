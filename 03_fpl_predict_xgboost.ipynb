{
 "cells": [
  {
   "cell_type": "code",
   "execution_count": 1,
   "metadata": {},
   "outputs": [],
   "source": [
    "import xgboost as xgb\n",
    "from sklearn.metrics import mean_squared_error\n",
    "import pandas as pd\n",
    "import numpy as np\n",
    "from pathlib import Path\n",
    "from sklearn.preprocessing import LabelEncoder, OneHotEncoder\n",
    "from sklearn.model_selection import train_test_split, RandomizedSearchCV, PredefinedSplit\n",
    "from sklearn.feature_extraction import DictVectorizer\n",
    "from scipy.stats import uniform, randint\n",
    "from matplotlib import pyplot as plt\n",
    "import re\n",
    "from tqdm import tqdm\n",
    "from helpers import *"
   ]
  },
  {
   "cell_type": "code",
   "execution_count": 2,
   "metadata": {},
   "outputs": [],
   "source": [
    "# path to project directory\n",
    "path = Path('./')"
   ]
  },
  {
   "cell_type": "code",
   "execution_count": 3,
   "metadata": {},
   "outputs": [],
   "source": [
    "# read in training dataset\n",
    "train_df = pd.read_csv(path/'data/train_v7.csv', index_col=0, dtype={'season':str,\n",
    "                                                                     'squad':str,\n",
    "                                                                     'comp':str})"
   ]
  },
  {
   "cell_type": "code",
   "execution_count": 4,
   "metadata": {},
   "outputs": [],
   "source": [
    "# for experimenting with expected stats\n",
    "# only available from 17/18 season\n",
    "# train_df = train_df[train_df['season'] != '1617']"
   ]
  },
  {
   "cell_type": "markdown",
   "metadata": {},
   "source": [
    "## XGBoost model\n",
    "\n",
    "XGboost is another ensemble tree-based predictive algorithm that performs well across a range of applications. Preparation of the data is very similar to the random forest approach.\n",
    "\n",
    "Again this is a time series problem, where metrics from recent time periods can be predicitve, so we need to add in window features (e.g. points scored last gameweek)."
   ]
  },
  {
   "cell_type": "code",
   "execution_count": 5,
   "metadata": {},
   "outputs": [],
   "source": [
    "# add a bunch of player lag features\n",
    "lag_train_df, team_lag_vars = team_lag_features(train_df, ['total_points'], ['all', 1, 2, 3, 4, 5, 10])\n",
    "lag_train_df, player_lag_vars = player_lag_features(lag_train_df, ['total_points'], ['all', 1, 2, 3, 4, 5, 10])"
   ]
  },
  {
   "cell_type": "code",
   "execution_count": 6,
   "metadata": {},
   "outputs": [
    {
     "data": {
      "text/plain": [
       "['total_points_team_pg_last_all',\n",
       " 'total_points_team_pg_last_1',\n",
       " 'total_points_team_pg_last_2',\n",
       " 'total_points_team_pg_last_3',\n",
       " 'total_points_team_pg_last_4',\n",
       " 'total_points_team_pg_last_5',\n",
       " 'total_points_team_pg_last_10',\n",
       " 'total_points_team_pg_last_all_opponent',\n",
       " 'total_points_team_pg_last_1_opponent',\n",
       " 'total_points_team_pg_last_2_opponent',\n",
       " 'total_points_team_pg_last_3_opponent',\n",
       " 'total_points_team_pg_last_4_opponent',\n",
       " 'total_points_team_pg_last_5_opponent',\n",
       " 'total_points_team_pg_last_10_opponent']"
      ]
     },
     "execution_count": 6,
     "metadata": {},
     "output_type": "execute_result"
    }
   ],
   "source": [
    "team_lag_vars"
   ]
  },
  {
   "cell_type": "markdown",
   "metadata": {},
   "source": [
    "Again we have introduced the lag (window) features for each player's points per game, their team's points per game and the opposition team's points per game over the previous 1, 2, 3, 4, 5, 10 and all gameweeks.\n",
    "\n",
    "Next we can again do everything we need to train the model, using a function to make things cleaner for the experimentation below. We do the following:\n",
    "\n",
    "- Set the validation point and length as well as the categorical and continuous features (additional to the player and team continuous features set above) we'll be using to predict the dependent variable, total points for each game\n",
    "- Various operations for ordering fields and setting categories\n",
    "- Use create_lag_train function to get an our training set (including appropriate lag values in the validation set)\n",
    "- Build the input (X) and dependent (y) variable datasets. Again this includes encoding the categorical features so that each level is represented in it's own column (e.g. postition_1, position_2, etc.)\n",
    "- Split out training and validation datasets, limiting validation to rows with >0 minutes\n",
    "- Return the training sets for use with the XGBoost API, and validation sets"
   ]
  },
  {
   "cell_type": "code",
   "execution_count": 35,
   "metadata": {},
   "outputs": [],
   "source": [
    "# set validaton point/length and categorical/continuous variables\n",
    "valid_season = '1920'\n",
    "valid_gw = 20\n",
    "valid_len = 6\n",
    "cat_vars = ['season', 'position', 'was_home']\n",
    "cont_vars = ['gw', 'minutes']\n",
    "dep_var = ['total_points']"
   ]
  },
  {
   "cell_type": "code",
   "execution_count": 36,
   "metadata": {},
   "outputs": [],
   "source": [
    "def xgb_data(lag_train_df, cat_vars, cont_vars, player_lag_vars, team_lag_vars, dep_var,\n",
    "             valid_season, valid_gw, valid_len):\n",
    "    \n",
    "    # we want to set gw and season as ordered categorical variables\n",
    "    # need lists with ordered categories\n",
    "    ordered_gws = list(range(1,39))\n",
    "    ordered_seasons = ['1617', '1718', '1819', '1920', '2021'] \n",
    "\n",
    "    # set as categories with correct order \n",
    "    lag_train_df['gw'] = lag_train_df['gw'].astype('category')\n",
    "    lag_train_df['season'] = lag_train_df['season'].astype('category')\n",
    "\n",
    "    lag_train_df['gw'].cat.set_categories(ordered_gws, ordered=True, inplace=True)\n",
    "    lag_train_df['season'].cat.set_categories(ordered_seasons, ordered=True, inplace=True)\n",
    "    \n",
    "    # create dataset with adjusted post-validation lag numbers\n",
    "    train_valid_df, train_idx, valid_idx = create_lag_train(lag_train_df, cat_vars, cont_vars, \n",
    "                                                      player_lag_vars, team_lag_vars, dep_var,\n",
    "                                                      valid_season, valid_gw, valid_len)\n",
    "    \n",
    "    # split out dependent variable\n",
    "    X, y = train_valid_df[cat_vars + cont_vars + player_lag_vars + team_lag_vars].copy(), train_valid_df[dep_var].copy()\n",
    "    \n",
    "    # since position is categorical, it should be a string\n",
    "    X['position'] = X['position'].apply(str)\n",
    "\n",
    "    # need to transform season\n",
    "    enc = LabelEncoder()\n",
    "    X['season'] = enc.fit_transform(X['season'])\n",
    "    X_dict = X.to_dict(\"records\")\n",
    "\n",
    "    # Create the DictVectorizer object: dv\n",
    "    dv = DictVectorizer(sparse=False, separator='_')\n",
    "\n",
    "    # Apply dv on df: df_encoded\n",
    "    X_encoded = dv.fit_transform(X_dict)\n",
    "\n",
    "    X_df = pd.DataFrame(X_encoded, columns=dv.feature_names_)\n",
    "    \n",
    "    # split out training and validation sets\n",
    "    X_train = X_df.loc[train_idx]\n",
    "    # train_mask = X_train['minutes_last_all'] > 0\n",
    "    # X_train = X_train[train_mask]\n",
    "    y_train = y.loc[train_idx]#[train_mask]\n",
    "\n",
    "    X_test = X_df.loc[valid_idx]\n",
    "    # we only want look at rows with >0 minutes (i.e. the player played)\n",
    "    test_mask = (X_test['minutes'] > 0) #& (X_test['total_points_pg_last_38'] > 4)\n",
    "    X_test = X_test[test_mask]\n",
    "    y_test = y.loc[valid_idx][test_mask]\n",
    "    \n",
    "    return X_train, y_train, X_test, y_test"
   ]
  },
  {
   "cell_type": "markdown",
   "metadata": {},
   "source": [
    "We'll also define a function to instatiate and fit an XGBoost Regressor object with some set parameters"
   ]
  },
  {
   "cell_type": "code",
   "execution_count": 17,
   "metadata": {},
   "outputs": [],
   "source": [
    "def xg(xs, y, objective=\"reg:squarederror\", gamma=0.35, learning_rate=0.08, max_depth=4, \n",
    "       n_estimators=100, subsample=0.87, **kwargs):\n",
    "    return xgb.XGBRegressor(n_jobs=-1, objective=objective, gamma=gamma, learning_rate=learning_rate, \n",
    "                            max_depth=max_depth, n_estimators=n_estimators, subsample=subsample).fit(xs, y)"
   ]
  },
  {
   "cell_type": "markdown",
   "metadata": {},
   "source": [
    "Now lets train a model and look at the performance"
   ]
  },
  {
   "cell_type": "code",
   "execution_count": 37,
   "metadata": {},
   "outputs": [
    {
     "name": "stdout",
     "output_type": "stream",
     "text": [
      "RMSE: 2.651825\n",
      "MAE: 1.866461\n"
     ]
    }
   ],
   "source": [
    "X_train, y_train, X_test, y_test = xgb_data(lag_train_df, cat_vars, cont_vars, player_lag_vars, \n",
    "                                            team_lag_vars, dep_var, valid_season, valid_gw, valid_len)\n",
    "\n",
    "# X_train = X_train.drop('minutes', axis=1)\n",
    "# X_test = X_test.drop('minutes', axis=1)\n",
    "\n",
    "m = xg(X_train, y_train)\n",
    "preds = m.predict(X_test)\n",
    "print(\"RMSE: %f\" % (r_mse(preds, y_test['total_points'])))\n",
    "print(\"MAE: %f\" % mae(preds, y_test['total_points']))"
   ]
  },
  {
   "cell_type": "markdown",
   "metadata": {},
   "source": [
    "This is another clear improvement on the previous best (random forest), but perhaps it can be improved by doing a parameter search.\n",
    "\n",
    "To do this we will first define the grid of parameters to be searched."
   ]
  },
  {
   "cell_type": "code",
   "execution_count": 111,
   "metadata": {},
   "outputs": [],
   "source": [
    "# parameter search space\n",
    "params = {#\"colsample_bytree\": uniform(0.7, 0.3),\n",
    "          \"gamma\": uniform(0.3, 0.05),\n",
    "          \"learning_rate\": uniform(0.08, 0.04), # default 0.1 \n",
    "          \"max_depth\": randint(3, 6), # default 3\n",
    "          \"n_estimators\": randint(25, 150), # default 100\n",
    "          \"subsample\": uniform(0.7, 0.2)}"
   ]
  },
  {
   "cell_type": "markdown",
   "metadata": {},
   "source": [
    "In this case we will pass both train and validation parts of the dataset, along with a series telling the XGBRegressor object which rows to use for training, and which for validation. We'll do this by recombining the train and test sets and creating a predefined split array to tell the search object what is what.\n",
    "\n",
    "We can then again instatiate the XGBRegressor object, but this time pass it to a randomised search validation object, along with the parameter grid, validation splits, and number of iterations we want to run.\n",
    "\n",
    "We fit this to the training data - 100 random parameter selections will be made and the best parameters for the validation set can be found (takes about 30 minutes to run for me)."
   ]
  },
  {
   "cell_type": "code",
   "execution_count": 609,
   "metadata": {},
   "outputs": [
    {
     "name": "stdout",
     "output_type": "stream",
     "text": [
      "Fitting 1 folds for each of 100 candidates, totalling 100 fits\n"
     ]
    },
    {
     "name": "stderr",
     "output_type": "stream",
     "text": [
      "[Parallel(n_jobs=1)]: Using backend SequentialBackend with 1 concurrent workers.\n",
      "[Parallel(n_jobs=1)]: Done 100 out of 100 | elapsed: 25.1min finished\n"
     ]
    },
    {
     "name": "stdout",
     "output_type": "stream",
     "text": [
      "Best parameters found:  {'gamma': 0.3250349034976101, 'learning_rate': 0.1052406379469584, 'max_depth': 4, 'n_estimators': 133, 'subsample': 0.7599182820347732}\n",
      "Lowest RMSE found:  2.640283683796617\n"
     ]
    }
   ],
   "source": [
    "X_train, y_train, X_test, y_test = xgb_data(lag_train_df, cat_vars, cont_vars, player_lag_vars, \n",
    "                                            team_lag_vars, dep_var, valid_season, valid_gw, valid_len)\n",
    "\n",
    "X_train['ps'] = -1\n",
    "X_test['ps'] = 0\n",
    "\n",
    "X_train_search = pd.concat([X_train, X_test])\n",
    "y_train_search = pd.concat([y_train, y_test])\n",
    "\n",
    "ps = PredefinedSplit(X_train_search['ps'])\n",
    "X_train.drop(['ps'], axis=1, inplace=True)\n",
    "X_test.drop(['ps'], axis=1, inplace=True)\n",
    "X_train_search.drop(['ps'], axis=1, inplace=True)\n",
    "\n",
    "# Instantiate the regressor: gbm\n",
    "gbm = xgb.XGBRegressor(objective=\"reg:squarederror\")\n",
    "\n",
    "# Perform random search: grid_mse\n",
    "randomized_mse = RandomizedSearchCV(estimator=gbm, \n",
    "                                    param_distributions=params, \n",
    "                                    scoring=\"neg_mean_squared_error\", \n",
    "                                    n_iter=100, \n",
    "                                    cv=ps, \n",
    "                                    verbose=1)\n",
    "\n",
    "# Fit randomized_mse to the data\n",
    "randomized_mse.fit(X_train_search, y_train_search)\n",
    "\n",
    "# Print the best parameters and lowest RMSE\n",
    "print(\"Best parameters found: \", randomized_mse.best_params_)\n",
    "print(\"Lowest RMSE found: \", np.sqrt(np.abs(randomized_mse.best_score_)))"
   ]
  },
  {
   "cell_type": "code",
   "execution_count": 38,
   "metadata": {},
   "outputs": [
    {
     "name": "stdout",
     "output_type": "stream",
     "text": [
      "RMSE: 2.637302\n",
      "MAE: 1.846132\n"
     ]
    }
   ],
   "source": [
    "# rerun it with the new parameters to get the mae too\n",
    "X_train, y_train, X_test, y_test = xgb_data(lag_train_df, cat_vars, cont_vars, player_lag_vars, \n",
    "                                            team_lag_vars, dep_var, valid_season, valid_gw, valid_len)\n",
    "\n",
    "m = xg(X_train, y_train, gamma=0.325, learning_rate=0.105, \n",
    "       max_depth=4, n_estimators=133, subsample=0.76)\n",
    "preds = m.predict(X_test)\n",
    "print(\"RMSE: %f\" % (r_mse(preds, y_test['total_points'])))\n",
    "print(\"MAE: %f\" % mae(preds, y_test['total_points']))"
   ]
  },
  {
   "cell_type": "markdown",
   "metadata": {},
   "source": [
    "Another nice improvement, but perhaps we can do better by adding additional data.\n",
    "\n",
    "## Expected goals\n",
    "\n",
    "The problem with goals is that they are actually quite rare - just 2 to 3 per game on average - and don't come evenly. A good team or player can apparently under-perform in the long term, even though they are playing well and creating chances. They can just be unlucky (despite what pundits might make you believe). To get around this we'll introduce expected goals as a metric (see https://fbref.com/en/expected-goals-model-explained/ for an explanation), specifically for teams in the more recent past. "
   ]
  },
  {
   "cell_type": "code",
   "execution_count": 115,
   "metadata": {},
   "outputs": [],
   "source": [
    "# add a bunch of player lag features\n",
    "lag_train_df, team_lag_vars = team_lag_features(train_df, ['total_points', 'xg'], [5, 10, 20])\n",
    "lag_train_df, player_lag_vars = player_lag_features(lag_train_df, ['total_points'], \n",
    "                                                    [3, 5, 10, 20, 38, 'all'])"
   ]
  },
  {
   "cell_type": "markdown",
   "metadata": {},
   "source": [
    "We're interested in the recent number of expected goals for the team and opposition, but it will also be useful to know how many expected goals they've been conceding too. This is calculated in the lag_train_df function, where we've used 5, 10 and 20 weeks for the lag period. we just need to add them to our team_lag_vars."
   ]
  },
  {
   "cell_type": "code",
   "execution_count": 116,
   "metadata": {},
   "outputs": [],
   "source": [
    "# manually add team pg conceded fields for xg \n",
    "team_lag_vars += [x.replace('team', 'team_conceded') for x in team_lag_vars if 'xg' in x]\n",
    "# team_lag_vars += [x.replace('team', 'team_conceded') for x in team_lag_vars if 'total_points_team' in x]"
   ]
  },
  {
   "cell_type": "markdown",
   "metadata": {},
   "source": [
    "Using the same model parameters as previously, let's see if these additional features make a difference."
   ]
  },
  {
   "cell_type": "code",
   "execution_count": 117,
   "metadata": {},
   "outputs": [
    {
     "name": "stdout",
     "output_type": "stream",
     "text": [
      "RMSE: 2.614002\n",
      "MAE: 1.827865\n"
     ]
    }
   ],
   "source": [
    "X_train, y_train, X_test, y_test = xgb_data(lag_train_df, cat_vars, cont_vars, player_lag_vars, \n",
    "                                            team_lag_vars, dep_var, valid_season, valid_gw, valid_len)\n",
    "\n",
    "m = xg(X_train, y_train, gamma=0.325, learning_rate=0.105, \n",
    "       max_depth=4, n_estimators=133, subsample=0.76)\n",
    "preds = m.predict(X_test)\n",
    "print(\"RMSE: %f\" % (r_mse(preds, y_test['total_points'])))\n",
    "print(\"MAE: %f\" % mae(preds, y_test['total_points']))"
   ]
  },
  {
   "cell_type": "code",
   "execution_count": 30,
   "metadata": {},
   "outputs": [
    {
     "name": "stdout",
     "output_type": "stream",
     "text": [
      "Fitting 1 folds for each of 100 candidates, totalling 100 fits\n"
     ]
    },
    {
     "name": "stderr",
     "output_type": "stream",
     "text": [
      "[Parallel(n_jobs=1)]: Using backend SequentialBackend with 1 concurrent workers.\n",
      "[Parallel(n_jobs=1)]: Done 100 out of 100 | elapsed: 24.3min finished\n"
     ]
    },
    {
     "name": "stdout",
     "output_type": "stream",
     "text": [
      "Best parameters found:  {'gamma': 0.3214058904498128, 'learning_rate': 0.08824274805911295, 'max_depth': 5, 'n_estimators': 70, 'subsample': 0.8589385692090954}\n",
      "Lowest RMSE found:  2.610187101686069\n"
     ]
    }
   ],
   "source": [
    "X_train, y_train, X_test, y_test = xgb_data(lag_train_df, cat_vars, cont_vars, player_lag_vars, \n",
    "                                            team_lag_vars, dep_var, valid_season, valid_gw, valid_len)\n",
    "\n",
    "X_train['ps'] = -1\n",
    "X_test['ps'] = 0\n",
    "\n",
    "X_train_search = pd.concat([X_train, X_test])\n",
    "y_train_search = pd.concat([y_train, y_test])\n",
    "\n",
    "ps = PredefinedSplit(X_train_search['ps'])\n",
    "X_train.drop(['ps'], axis=1, inplace=True)\n",
    "X_test.drop(['ps'], axis=1, inplace=True)\n",
    "X_train_search.drop(['ps'], axis=1, inplace=True)\n",
    "\n",
    "# Instantiate the regressor: gbm\n",
    "gbm = xgb.XGBRegressor(objective=\"reg:squarederror\")\n",
    "\n",
    "# Perform random search: grid_mse\n",
    "randomized_mse = RandomizedSearchCV(estimator=gbm, \n",
    "                                    param_distributions=params, \n",
    "                                    scoring=\"neg_mean_squared_error\", \n",
    "                                    n_iter=100, \n",
    "                                    cv=ps, \n",
    "                                    verbose=1)\n",
    "\n",
    "# Fit randomized_mse to the data\n",
    "randomized_mse.fit(X_train_search, y_train_search)\n",
    "\n",
    "# Print the best parameters and lowest RMSE\n",
    "print(\"Best parameters found: \", randomized_mse.best_params_)\n",
    "print(\"Lowest RMSE found: \", np.sqrt(np.abs(randomized_mse.best_score_)))"
   ]
  },
  {
   "cell_type": "code",
   "execution_count": 131,
   "metadata": {},
   "outputs": [
    {
     "name": "stdout",
     "output_type": "stream",
     "text": [
      "RMSE: 2.619510\n",
      "MAE: 1.831005\n"
     ]
    }
   ],
   "source": [
    "X_train, y_train, X_test, y_test = xgb_data(lag_train_df, cat_vars, cont_vars, player_lag_vars, \n",
    "                                            team_lag_vars, dep_var, valid_season, valid_gw, valid_len)\n",
    "\n",
    "m = xg(X_train, y_train, gamma=0.321, learning_rate=0.0882, \n",
    "       max_depth=5, n_estimators=70, subsample=0.859)\n",
    "preds = m.predict(X_test)\n",
    "print(\"RMSE: %f\" % (r_mse(preds, y_test['total_points'])))\n",
    "print(\"MAE: %f\" % mae(preds, y_test['total_points']))"
   ]
  },
  {
   "cell_type": "markdown",
   "metadata": {},
   "source": [
    "Seems to be improving performance some more, at least for the point of the season that we're using for validation."
   ]
  },
  {
   "cell_type": "markdown",
   "metadata": {},
   "source": [
    "The XGBoost package also allows us to look at features importance, just like with Random Forest in sklearn."
   ]
  },
  {
   "cell_type": "code",
   "execution_count": 121,
   "metadata": {},
   "outputs": [
    {
     "data": {
      "image/png": "[encoded data removed]",
      "text/plain": [
       "<Figure size 432x288 with 1 Axes>"
      ]
     },
     "metadata": {
      "needs_background": "light"
     },
     "output_type": "display_data"
    }
   ],
   "source": [
    "xgb.plot_importance(m, max_num_features=25)\n",
    "plt.show()"
   ]
  },
  {
   "cell_type": "markdown",
   "metadata": {},
   "source": [
    "Looks like we're getting a few of the expected goal features in there, which may account for the apparent improvement in performance.\n",
    "\n",
    "Now we can go ahead and run validation across the whole 2019/20 season."
   ]
  },
  {
   "cell_type": "code",
   "execution_count": 9,
   "metadata": {},
   "outputs": [],
   "source": [
    "def xgb_season(df, cat_vars, cont_vars, player_lag_vars, team_lag_vars, \n",
    "               dep_var, model_params, valid_season='1920'):\n",
    "    # empty list for scores\n",
    "    scores_rmse = []\n",
    "    scores_mae = []\n",
    "    valid_len = 6\n",
    "\n",
    "    for valid_gw in tqdm(range(1,34)):\n",
    "        \n",
    "        X_train, y_train, X_test, y_test = xgb_data(df, cat_vars, cont_vars, \n",
    "                                                    player_lag_vars, team_lag_vars, dep_var,\n",
    "                                                    valid_season, valid_gw, valid_len)\n",
    "    \n",
    "        m = xg(X_train, y_train, gamma=model_params['gamma'], learning_rate=model_params['learning_rate'], \n",
    "               max_depth=model_params['max_depth'], n_estimators=model_params['n_estimators'], \n",
    "               subsample=model_params['subsample'])\n",
    "\n",
    "        preds = m.predict(X_test)\n",
    "        gw_rmse = r_mse(preds, y_test['total_points'])\n",
    "        gw_mae = mae(preds, y_test['total_points'])\n",
    "#         print(\"GW%d RMSE: %f MAE: %f\" % (valid_gw, gw_rmse, gw_mae))\n",
    "\n",
    "        scores_rmse.append(gw_rmse)\n",
    "        scores_mae.append(gw_mae)\n",
    "    \n",
    "    print('Season RMSE: %f' % np.mean(scores_rmse))\n",
    "    print('Season MAE: %f' % np.mean(scores_mae))\n",
    "\n",
    "    return [scores_rmse, scores_mae]"
   ]
  },
  {
   "cell_type": "code",
   "execution_count": 137,
   "metadata": {},
   "outputs": [
    {
     "name": "stderr",
     "output_type": "stream",
     "text": [
      "100%|██████████████████████████████████████████████████████████████████████████████████| 33/33 [07:31<00:00, 13.67s/it]"
     ]
    },
    {
     "name": "stdout",
     "output_type": "stream",
     "text": [
      "Season RMSE: 2.701667\n",
      "Season MAE: 1.881052\n"
     ]
    },
    {
     "name": "stderr",
     "output_type": "stream",
     "text": [
      "\n"
     ]
    }
   ],
   "source": [
    "lag_train_df, team_lag_vars = team_lag_features(train_df, ['total_points', 'xg'], [5, 10, 20])\n",
    "lag_train_df, player_lag_vars = player_lag_features(lag_train_df, ['total_points'], [3, 5, 10, 20, 38, 'all'])\n",
    "\n",
    "# manually add team pg conceded fields for xg \n",
    "team_lag_vars += [x.replace('team', 'team_conceded') for x in team_lag_vars if 'xg' in x]\n",
    "\n",
    "model_params = {\"gamma\": 0.321,\n",
    "                \"learning_rate\": 0.0882, \n",
    "                \"max_depth\": 5,\n",
    "                \"n_estimators\": 70,\n",
    "                \"subsample\": 0.859}\n",
    "\n",
    "scores = xgb_season(lag_train_df, cat_vars, cont_vars, player_lag_vars, team_lag_vars, dep_var, model_params)"
   ]
  },
  {
   "cell_type": "code",
   "execution_count": 139,
   "metadata": {},
   "outputs": [
    {
     "data": {
      "image/png": "[encoded data removed]",
      "text/plain": [
       "<Figure size 432x288 with 1 Axes>"
      ]
     },
     "metadata": {
      "needs_background": "light"
     },
     "output_type": "display_data"
    }
   ],
   "source": [
    "plt.plot(scores[1])\n",
    "plt.ylabel('GW MAE')\n",
    "plt.xlabel('GW')\n",
    "plt.text(15, 1.95, 'Season Avg MAE: %.2f' % np.mean(scores[1]), bbox={'facecolor':'white', 'alpha':1, 'pad':5})\n",
    "plt.show()"
   ]
  },
  {
   "cell_type": "markdown",
   "metadata": {},
   "source": [
    "It appears that the performance improvement is sustained across the whole season, which is good to see.\n",
    "\n",
    "Again, we'll add these scores to the comparison dataset."
   ]
  },
  {
   "cell_type": "code",
   "execution_count": 637,
   "metadata": {},
   "outputs": [],
   "source": [
    "model_validation_scores = pd.read_csv(path/'charts/model_validation_scores.csv', index_col=0)\n",
    "model_validation_scores['xgboost'] = scores[1]\n",
    "model_validation_scores.to_csv(path/'charts/model_validation_scores.csv')"
   ]
  },
  {
   "cell_type": "markdown",
   "metadata": {},
   "source": [
    "Finally, in the next notebook we'll move away from tree-based algorithms and try a neural network with embeddings. (Below are my workings trying to find the best inputs for the model)."
   ]
  },
  {
   "cell_type": "code",
   "execution_count": null,
   "metadata": {},
   "outputs": [],
   "source": []
  },
  {
   "cell_type": "code",
   "execution_count": null,
   "metadata": {},
   "outputs": [],
   "source": []
  },
  {
   "cell_type": "markdown",
   "metadata": {},
   "source": [
    "### Model development notes"
   ]
  },
  {
   "cell_type": "markdown",
   "metadata": {},
   "source": [
    "Weirdly, the model performs worse when I remove the rows with 0 minutes from training (removing them after I've calculated all the lag values of course), so I keep them in."
   ]
  },
  {
   "cell_type": "code",
   "execution_count": 100,
   "metadata": {},
   "outputs": [],
   "source": [
    "# for experimenting with team points split by position\n",
    "# train_df['total_points_def'] = ((train_df['position'] == 1) | (train_df['position'] == 2)).astype(int) * train_df['total_points']\n",
    "# train_df['total_points_mid'] = (train_df['position'] == 3).astype(int) * train_df['total_points']\n",
    "# train_df['total_points_fwd'] = (train_df['position'] == 4).astype(int) * train_df['total_points']"
   ]
  },
  {
   "cell_type": "code",
   "execution_count": null,
   "metadata": {},
   "outputs": [],
   "source": [
    "# for experimenting with expected stats\n",
    "# only available from 17/18 season\n",
    "# train_df = train_df[train_df['season'] != '1617']"
   ]
  },
  {
   "cell_type": "code",
   "execution_count": 140,
   "metadata": {},
   "outputs": [
    {
     "name": "stderr",
     "output_type": "stream",
     "text": [
      "100%|██████████████████████████████████████████████████████████████████████████████████| 33/33 [11:06<00:00, 20.20s/it]"
     ]
    },
    {
     "name": "stdout",
     "output_type": "stream",
     "text": [
      "Season RMSE: 2.684082\n",
      "Season MAE: 1.879299\n"
     ]
    },
    {
     "name": "stderr",
     "output_type": "stream",
     "text": [
      "\n"
     ]
    }
   ],
   "source": [
    "# original non-xg model (hmmm, seems to be better...)\n",
    "lag_train_df, team_lag_vars = team_lag_features(train_df, ['total_points'], ['all', 1, 2, 3, 4, 5, 10])\n",
    "lag_train_df, player_lag_vars = player_lag_features(lag_train_df, ['total_points'], ['all', 1, 2, 3, 4, 5, 10])\n",
    "\n",
    "model_params = {\"gamma\": 0.42,\n",
    "                \"learning_rate\": 0.047, \n",
    "                \"max_depth\": 4,\n",
    "                \"n_estimators\": 171,\n",
    "                \"subsample\": 0.6}\n",
    "\n",
    "scores = xgb_season(lag_train_df, cat_vars, cont_vars, player_lag_vars, team_lag_vars, dep_var, model_params)"
   ]
  },
  {
   "cell_type": "code",
   "execution_count": 141,
   "metadata": {},
   "outputs": [
    {
     "name": "stderr",
     "output_type": "stream",
     "text": [
      "100%|██████████████████████████████████████████████████████████████████████████████████| 33/33 [08:43<00:00, 15.86s/it]"
     ]
    },
    {
     "name": "stdout",
     "output_type": "stream",
     "text": [
      "Season RMSE: 2.692626\n",
      "Season MAE: 1.880591\n"
     ]
    },
    {
     "name": "stderr",
     "output_type": "stream",
     "text": [
      "\n"
     ]
    }
   ],
   "source": [
    "# original model with above params\n",
    "lag_train_df, team_lag_vars = team_lag_features(train_df, ['total_points'], ['all', 1, 2, 3, 4, 5, 10])\n",
    "lag_train_df, player_lag_vars = player_lag_features(lag_train_df, ['total_points'], ['all', 1, 2, 3, 4, 5, 10])\n",
    "\n",
    "model_params = {\"gamma\": 0.325,\n",
    "                \"learning_rate\": 0.105, \n",
    "                \"max_depth\": 4,\n",
    "                \"n_estimators\": 133,\n",
    "                \"subsample\": 0.76}\n",
    "\n",
    "scores = xgb_season(lag_train_df, cat_vars, cont_vars, player_lag_vars, team_lag_vars, dep_var, model_params)"
   ]
  },
  {
   "cell_type": "code",
   "execution_count": 143,
   "metadata": {},
   "outputs": [
    {
     "name": "stderr",
     "output_type": "stream",
     "text": [
      "\r",
      "  0%|                                                                                           | 0/33 [00:00<?, ?it/s]"
     ]
    },
    {
     "name": "stdout",
     "output_type": "stream",
     "text": [
      "['total_points_team_pg_last_all', 'total_points_team_pg_last_1', 'total_points_team_pg_last_2', 'total_points_team_pg_last_3', 'total_points_team_pg_last_4', 'total_points_team_pg_last_5', 'total_points_team_pg_last_10', 'total_points_team_conceded_pg_last_all_opponent', 'total_points_team_conceded_pg_last_1_opponent', 'total_points_team_conceded_pg_last_2_opponent', 'total_points_team_conceded_pg_last_3_opponent', 'total_points_team_conceded_pg_last_4_opponent', 'total_points_team_conceded_pg_last_5_opponent', 'total_points_team_conceded_pg_last_10_opponent']\n"
     ]
    },
    {
     "name": "stderr",
     "output_type": "stream",
     "text": [
      "100%|██████████████████████████████████████████████████████████████████████████████████| 33/33 [10:22<00:00, 18.86s/it]"
     ]
    },
    {
     "name": "stdout",
     "output_type": "stream",
     "text": [
      "Season RMSE: 2.686342\n",
      "Season MAE: 1.873396\n"
     ]
    },
    {
     "name": "stderr",
     "output_type": "stream",
     "text": [
      "\n"
     ]
    }
   ],
   "source": [
    "# try it with total points for the team and total points conceded for the opposition - bit of improvement\n",
    "lag_train_df, team_lag_vars = team_lag_features(train_df, ['total_points'], ['all', 1, 2, 3, 4, 5, 10])\n",
    "lag_train_df, player_lag_vars = player_lag_features(lag_train_df, ['total_points'], ['all', 1, 2, 3, 4, 5, 10])\n",
    "\n",
    "# add team conceded fields for opposition\n",
    "pattern = re.compile('total_points_team_pg_last_.*_opponent')\n",
    "team_lag_vars += [x.replace('team', 'team_conceded') for x in team_lag_vars if pattern.match(x)]\n",
    "\n",
    "# but remove scored for opposition\n",
    "pattern = re.compile('total_points_team_pg_last_.*_opponent')\n",
    "team_lag_vars = [x for x in team_lag_vars if not pattern.match(x)]\n",
    "\n",
    "print(team_lag_vars)\n",
    "\n",
    "model_params = {\"gamma\": 0.42,\n",
    "                \"learning_rate\": 0.047, \n",
    "                \"max_depth\": 4,\n",
    "                \"n_estimators\": 171,\n",
    "                \"subsample\": 0.6}\n",
    "\n",
    "scores = xgb_season(lag_train_df, cat_vars, cont_vars, player_lag_vars, team_lag_vars, dep_var, model_params)"
   ]
  },
  {
   "cell_type": "code",
   "execution_count": 144,
   "metadata": {},
   "outputs": [
    {
     "data": {
      "image/png": "[encoded data removed]",
      "text/plain": [
       "<Figure size 432x288 with 1 Axes>"
      ]
     },
     "metadata": {
      "needs_background": "light"
     },
     "output_type": "display_data"
    }
   ],
   "source": [
    "plt.plot(scores[1])\n",
    "plt.ylabel('GW MAE')\n",
    "plt.xlabel('GW')\n",
    "plt.text(15, 1.95, 'Season Avg MAE: %.2f' % np.mean(scores[1]), bbox={'facecolor':'white', 'alpha':1, 'pad':5})\n",
    "plt.show()"
   ]
  },
  {
   "cell_type": "code",
   "execution_count": 145,
   "metadata": {},
   "outputs": [],
   "source": [
    "model_validation_scores = pd.read_csv(path/'charts/model_validation_scores.csv', index_col=0)\n",
    "model_validation_scores['xgboost'] = scores[1]\n",
    "model_validation_scores.to_csv(path/'charts/model_validation_scores.csv')"
   ]
  },
  {
   "cell_type": "code",
   "execution_count": 146,
   "metadata": {},
   "outputs": [
    {
     "name": "stderr",
     "output_type": "stream",
     "text": [
      "\r",
      "  0%|                                                                                           | 0/33 [00:00<?, ?it/s]"
     ]
    },
    {
     "name": "stdout",
     "output_type": "stream",
     "text": [
      "['total_points_team_pg_last_all', 'total_points_team_pg_last_3', 'total_points_team_pg_last_5', 'total_points_team_pg_last_10', 'total_points_team_pg_last_20', 'total_points_team_conceded_pg_last_all_opponent', 'total_points_team_conceded_pg_last_3_opponent', 'total_points_team_conceded_pg_last_5_opponent', 'total_points_team_conceded_pg_last_10_opponent', 'total_points_team_conceded_pg_last_20_opponent']\n"
     ]
    },
    {
     "name": "stderr",
     "output_type": "stream",
     "text": [
      "100%|██████████████████████████████████████████████████████████████████████████████████| 33/33 [09:20<00:00, 16.97s/it]"
     ]
    },
    {
     "name": "stdout",
     "output_type": "stream",
     "text": [
      "Season RMSE: 2.683937\n",
      "Season MAE: 1.868778\n"
     ]
    },
    {
     "name": "stderr",
     "output_type": "stream",
     "text": [
      "\n"
     ]
    }
   ],
   "source": [
    "# try it with total points for the team and total points conceded for the opposition\n",
    "# but change up the lags a bit - improves little bit\n",
    "lag_train_df, team_lag_vars = team_lag_features(train_df, ['total_points'], ['all', 3, 5, 10, 20])\n",
    "lag_train_df, player_lag_vars = player_lag_features(lag_train_df, ['total_points'], ['all', 1, 2, 3, 4, 5, 10])\n",
    "\n",
    "# add team conceded fields\n",
    "pattern = re.compile('total_points_team_pg_last_.*_opponent')\n",
    "team_lag_vars += [x.replace('team', 'team_conceded') for x in team_lag_vars if pattern.match(x)]\n",
    "\n",
    "# but remove them for the player's team\n",
    "pattern = re.compile('total_points_team_pg_last_.*_opponent')\n",
    "team_lag_vars = [x for x in team_lag_vars if not pattern.match(x)]\n",
    "\n",
    "print(team_lag_vars)\n",
    "\n",
    "model_params = {\"gamma\": 0.42,\n",
    "                \"learning_rate\": 0.047, \n",
    "                \"max_depth\": 4,\n",
    "                \"n_estimators\": 171,\n",
    "                \"subsample\": 0.6}\n",
    "\n",
    "scores = xgb_season(lag_train_df, cat_vars, cont_vars, player_lag_vars, team_lag_vars, dep_var, model_params)"
   ]
  },
  {
   "cell_type": "code",
   "execution_count": 10,
   "metadata": {},
   "outputs": [
    {
     "name": "stderr",
     "output_type": "stream",
     "text": [
      "\r",
      "  0%|                                                                                           | 0/33 [00:00<?, ?it/s]"
     ]
    },
    {
     "name": "stdout",
     "output_type": "stream",
     "text": [
      "['total_points_team_pg_last_all', 'total_points_team_pg_last_3', 'total_points_team_pg_last_5', 'total_points_team_pg_last_10', 'total_points_team_pg_last_20', 'total_points_team_conceded_pg_last_all_opponent', 'total_points_team_conceded_pg_last_3_opponent', 'total_points_team_conceded_pg_last_5_opponent', 'total_points_team_conceded_pg_last_10_opponent', 'total_points_team_conceded_pg_last_20_opponent']\n"
     ]
    },
    {
     "name": "stderr",
     "output_type": "stream",
     "text": [
      "100%|██████████████████████████████████████████████████████████████████████████████████| 33/33 [06:53<00:00, 12.54s/it]"
     ]
    },
    {
     "name": "stdout",
     "output_type": "stream",
     "text": [
      "Season RMSE: 2.693712\n",
      "Season MAE: 1.876261\n"
     ]
    },
    {
     "name": "stderr",
     "output_type": "stream",
     "text": [
      "\n"
     ]
    }
   ],
   "source": [
    "# lets compare the last model with and without xg team stats\n",
    "# But only using data from 2017/18 to have a fair comparison\n",
    "train_df = train_df[train_df['season'] != '1617']\n",
    "\n",
    "# first without xg - worse performance as would be expected with less data\n",
    "lag_train_df, team_lag_vars = team_lag_features(train_df, ['total_points'], ['all', 3, 5, 10, 20])\n",
    "lag_train_df, player_lag_vars = player_lag_features(lag_train_df, ['total_points'], ['all', 1, 2, 3, 4, 5, 10])\n",
    "\n",
    "# add team conceded fields\n",
    "pattern = re.compile('total_points_team_pg_last_.*_opponent')\n",
    "team_lag_vars += [x.replace('team', 'team_conceded') for x in team_lag_vars if pattern.match(x)]\n",
    "\n",
    "# but remove them for the player's team\n",
    "pattern = re.compile('total_points_team_pg_last_.*_opponent')\n",
    "team_lag_vars = [x for x in team_lag_vars if not pattern.match(x)]\n",
    "\n",
    "print(team_lag_vars)\n",
    "\n",
    "model_params = {\"gamma\": 0.42,\n",
    "                \"learning_rate\": 0.047, \n",
    "                \"max_depth\": 4,\n",
    "                \"n_estimators\": 171,\n",
    "                \"subsample\": 0.6}\n",
    "\n",
    "scores = xgb_season(lag_train_df, cat_vars, cont_vars, player_lag_vars, team_lag_vars, dep_var, model_params)\n"
   ]
  },
  {
   "cell_type": "code",
   "execution_count": 11,
   "metadata": {},
   "outputs": [
    {
     "name": "stderr",
     "output_type": "stream",
     "text": [
      "\r",
      "  0%|                                                                                           | 0/33 [00:00<?, ?it/s]"
     ]
    },
    {
     "name": "stdout",
     "output_type": "stream",
     "text": [
      "['total_points_team_pg_last_all', 'total_points_team_pg_last_3', 'total_points_team_pg_last_5', 'total_points_team_pg_last_10', 'total_points_team_pg_last_20', 'xg_team_pg_last_all', 'xg_team_pg_last_3', 'xg_team_pg_last_5', 'xg_team_pg_last_10', 'xg_team_pg_last_20', 'total_points_team_conceded_pg_last_all_opponent', 'total_points_team_conceded_pg_last_3_opponent', 'total_points_team_conceded_pg_last_5_opponent', 'total_points_team_conceded_pg_last_10_opponent', 'total_points_team_conceded_pg_last_20_opponent', 'xg_team_conceded_pg_last_all_opponent', 'xg_team_conceded_pg_last_3_opponent', 'xg_team_conceded_pg_last_5_opponent', 'xg_team_conceded_pg_last_10_opponent', 'xg_team_conceded_pg_last_20_opponent']\n"
     ]
    },
    {
     "name": "stderr",
     "output_type": "stream",
     "text": [
      "100%|██████████████████████████████████████████████████████████████████████████████████| 33/33 [08:52<00:00, 16.14s/it]"
     ]
    },
    {
     "name": "stdout",
     "output_type": "stream",
     "text": [
      "Season RMSE: 2.688984\n",
      "Season MAE: 1.891019\n"
     ]
    },
    {
     "name": "stderr",
     "output_type": "stream",
     "text": [
      "\n"
     ]
    }
   ],
   "source": [
    "# then with xg - better rmse, worse mae\n",
    "lag_train_df, team_lag_vars = team_lag_features(train_df, ['total_points', 'xg'], ['all', 3, 5, 10, 20])\n",
    "lag_train_df, player_lag_vars = player_lag_features(lag_train_df, ['total_points'], ['all', 1, 2, 3, 4, 5, 10])\n",
    "\n",
    "# add team conceded fields\n",
    "pattern = re.compile('total_points_team_pg_last_.*_opponent')\n",
    "team_lag_vars += [x.replace('team', 'team_conceded') for x in team_lag_vars if pattern.match(x)]\n",
    "\n",
    "pattern = re.compile('xg_team_pg_last_.*_opponent')\n",
    "team_lag_vars += [x.replace('team', 'team_conceded') for x in team_lag_vars if pattern.match(x)]\n",
    "\n",
    "# but remove them for the player's team\n",
    "pattern = re.compile('total_points_team_pg_last_.*_opponent')\n",
    "team_lag_vars = [x for x in team_lag_vars if not pattern.match(x)]\n",
    "\n",
    "pattern = re.compile('xg_team_pg_last_.*_opponent')\n",
    "team_lag_vars = [x for x in team_lag_vars if not pattern.match(x)]\n",
    "\n",
    "print(team_lag_vars)\n",
    "\n",
    "model_params = {\"gamma\": 0.42,\n",
    "                \"learning_rate\": 0.047, \n",
    "                \"max_depth\": 4,\n",
    "                \"n_estimators\": 171,\n",
    "                \"subsample\": 0.6}\n",
    "\n",
    "scores = xgb_season(lag_train_df, cat_vars, cont_vars, player_lag_vars, team_lag_vars, dep_var, model_params)\n"
   ]
  },
  {
   "cell_type": "code",
   "execution_count": 12,
   "metadata": {},
   "outputs": [
    {
     "name": "stderr",
     "output_type": "stream",
     "text": [
      "\r",
      "  0%|                                                                                           | 0/33 [00:00<?, ?it/s]"
     ]
    },
    {
     "name": "stdout",
     "output_type": "stream",
     "text": [
      "['total_points_team_pg_last_all', 'total_points_team_pg_last_3', 'total_points_team_pg_last_5', 'total_points_team_pg_last_10', 'total_points_team_pg_last_20', 'xg_team_pg_last_all', 'xg_team_pg_last_3', 'xg_team_pg_last_5', 'xg_team_pg_last_10', 'xg_team_pg_last_20', 'total_points_team_conceded_pg_last_all_opponent', 'total_points_team_conceded_pg_last_3_opponent', 'total_points_team_conceded_pg_last_5_opponent', 'total_points_team_conceded_pg_last_10_opponent', 'total_points_team_conceded_pg_last_20_opponent', 'xg_team_conceded_pg_last_all_opponent', 'xg_team_conceded_pg_last_3_opponent', 'xg_team_conceded_pg_last_5_opponent', 'xg_team_conceded_pg_last_10_opponent', 'xg_team_conceded_pg_last_20_opponent']\n"
     ]
    },
    {
     "name": "stderr",
     "output_type": "stream",
     "text": [
      "100%|██████████████████████████████████████████████████████████████████████████████████| 33/33 [08:02<00:00, 14.62s/it]"
     ]
    },
    {
     "name": "stdout",
     "output_type": "stream",
     "text": [
      "Season RMSE: 2.694500\n",
      "Season MAE: 1.890661\n"
     ]
    },
    {
     "name": "stderr",
     "output_type": "stream",
     "text": [
      "\n"
     ]
    }
   ],
   "source": [
    "# then with xg - trying max depth of 5, lower estimators, higher learning rate\n",
    "lag_train_df, team_lag_vars = team_lag_features(train_df, ['total_points', 'xg'], ['all', 3, 5, 10, 20])\n",
    "lag_train_df, player_lag_vars = player_lag_features(lag_train_df, ['total_points'], ['all', 1, 2, 3, 4, 5, 10])\n",
    "\n",
    "# add team conceded fields\n",
    "pattern = re.compile('total_points_team_pg_last_.*_opponent')\n",
    "team_lag_vars += [x.replace('team', 'team_conceded') for x in team_lag_vars if pattern.match(x)]\n",
    "\n",
    "pattern = re.compile('xg_team_pg_last_.*_opponent')\n",
    "team_lag_vars += [x.replace('team', 'team_conceded') for x in team_lag_vars if pattern.match(x)]\n",
    "\n",
    "# but remove them for the player's team\n",
    "pattern = re.compile('total_points_team_pg_last_.*_opponent')\n",
    "team_lag_vars = [x for x in team_lag_vars if not pattern.match(x)]\n",
    "\n",
    "pattern = re.compile('xg_team_pg_last_.*_opponent')\n",
    "team_lag_vars = [x for x in team_lag_vars if not pattern.match(x)]\n",
    "\n",
    "print(team_lag_vars)\n",
    "\n",
    "model_params = {\"gamma\": 0.42,\n",
    "                \"learning_rate\": 0.08, \n",
    "                \"max_depth\": 5,\n",
    "                \"n_estimators\": 100,\n",
    "                \"subsample\": 0.6}\n",
    "\n",
    "scores = xgb_season(lag_train_df, cat_vars, cont_vars, player_lag_vars, team_lag_vars, dep_var, model_params)"
   ]
  },
  {
   "cell_type": "code",
   "execution_count": 147,
   "metadata": {},
   "outputs": [
    {
     "data": {
      "image/png": "[encoded data removed]",
      "text/plain": [
       "<Figure size 432x288 with 1 Axes>"
      ]
     },
     "metadata": {
      "needs_background": "light"
     },
     "output_type": "display_data"
    }
   ],
   "source": [
    "plt.plot(scores[1])\n",
    "plt.ylabel('GW MAE')\n",
    "plt.xlabel('GW')\n",
    "plt.text(15, 1.95, 'Season Avg MAE: %.2f' % np.mean(scores[1]), bbox={'facecolor':'white', 'alpha':1, 'pad':5})\n",
    "plt.show()"
   ]
  },
  {
   "cell_type": "code",
   "execution_count": 148,
   "metadata": {},
   "outputs": [],
   "source": [
    "model_validation_scores = pd.read_csv(path/'charts/model_validation_scores.csv', index_col=0)\n",
    "model_validation_scores['xgboost'] = scores[1]\n",
    "model_validation_scores.to_csv(path/'charts/model_validation_scores.csv')"
   ]
  },
  {
   "cell_type": "code",
   "execution_count": 150,
   "metadata": {},
   "outputs": [
    {
     "name": "stdout",
     "output_type": "stream",
     "text": [
      "RMSE: 2.647717\n",
      "MAE: 1.848925\n"
     ]
    }
   ],
   "source": [
    "X_train, y_train, X_test, y_test = xgb_data(lag_train_df, cat_vars, cont_vars, player_lag_vars, \n",
    "                                            team_lag_vars, dep_var, valid_season, valid_gw, valid_len)\n",
    "\n",
    "m = xg(X_train, y_train, gamma=0.42,\n",
    "                learning_rate=0.047, \n",
    "                max_depth=4,\n",
    "                n_estimators=171,\n",
    "                subsample=0.6)\n",
    "preds = m.predict(X_test)\n",
    "print(\"RMSE: %f\" % (r_mse(preds, y_test['total_points'])))\n",
    "print(\"MAE: %f\" % mae(preds, y_test['total_points']))"
   ]
  },
  {
   "cell_type": "code",
   "execution_count": 151,
   "metadata": {},
   "outputs": [
    {
     "data": {
      "image/png": "[encoded data removed]",
      "text/plain": [
       "<Figure size 432x288 with 1 Axes>"
      ]
     },
     "metadata": {
      "needs_background": "light"
     },
     "output_type": "display_data"
    }
   ],
   "source": [
    "xgb.plot_importance(m, max_num_features=25)\n",
    "plt.show()"
   ]
  },
  {
   "cell_type": "code",
   "execution_count": 438,
   "metadata": {},
   "outputs": [
    {
     "name": "stdout",
     "output_type": "stream",
     "text": [
      "RMSE: 2.620186\n",
      "MAE: 1.827904\n"
     ]
    }
   ],
   "source": [
    "# xg (including conceded) and points for teams\n",
    "preds = xg_reg.predict(X_test)\n",
    "print(\"RMSE: %f\" % (r_mse(preds, y_test['total_points'])))\n",
    "print(\"MAE: %f\" % mae(preds, y_test['total_points']))"
   ]
  },
  {
   "cell_type": "code",
   "execution_count": 512,
   "metadata": {},
   "outputs": [
    {
     "name": "stdout",
     "output_type": "stream",
     "text": [
      "RMSE: 2.638484\n",
      "MAE: 1.865984\n"
     ]
    }
   ],
   "source": [
    "# xg conceded only and points for teams\n",
    "preds = xg_reg.predict(X_test)\n",
    "print(\"RMSE: %f\" % (r_mse(preds, y_test['total_points'])))\n",
    "print(\"MAE: %f\" % mae(preds, y_test['total_points']))"
   ]
  },
  {
   "cell_type": "code",
   "execution_count": 394,
   "metadata": {},
   "outputs": [
    {
     "name": "stdout",
     "output_type": "stream",
     "text": [
      "RMSE: 2.643064\n",
      "MAE: 1.850276\n"
     ]
    }
   ],
   "source": [
    "# xg (including conceded) and points (including conceded) for teams\n",
    "preds = xg_reg.predict(X_test)\n",
    "print(\"RMSE: %f\" % (r_mse(preds, y_test['total_points'])))\n",
    "print(\"MAE: %f\" % mae(preds, y_test['total_points']))"
   ]
  },
  {
   "cell_type": "code",
   "execution_count": 461,
   "metadata": {},
   "outputs": [
    {
     "name": "stdout",
     "output_type": "stream",
     "text": [
      "RMSE: 2.660879\n",
      "MAE: 1.878073\n"
     ]
    }
   ],
   "source": [
    "# only points (including conceded for teams)\n",
    "preds = xg_reg.predict(X_test)\n",
    "print(\"RMSE: %f\" % (r_mse(preds, y_test['total_points'])))\n",
    "print(\"MAE: %f\" % mae(preds, y_test['total_points']))"
   ]
  },
  {
   "cell_type": "code",
   "execution_count": 546,
   "metadata": {},
   "outputs": [
    {
     "name": "stdout",
     "output_type": "stream",
     "text": [
      "RMSE: 2.634762\n",
      "MAE: 1.826365\n"
     ]
    }
   ],
   "source": [
    "# xg (including conceded) and points (excluding opponent) for teams\n",
    "preds = xg_reg.predict(X_test)\n",
    "print(\"RMSE: %f\" % (r_mse(preds, y_test['total_points'])))\n",
    "print(\"MAE: %f\" % mae(preds, y_test['total_points']))"
   ]
  },
  {
   "cell_type": "code",
   "execution_count": 227,
   "metadata": {},
   "outputs": [
    {
     "name": "stdout",
     "output_type": "stream",
     "text": [
      "RMSE: 2.620186\n",
      "MAE: 1.827904\n"
     ]
    }
   ],
   "source": [
    "# includes 0 minute rows\n",
    "# validation only >0 minute rows\n",
    "preds = xg_reg.predict(X_test)\n",
    "print(\"RMSE: %f\" % (r_mse(preds, y_test['total_points'])))\n",
    "print(\"MAE: %f\" % mae(preds, y_test['total_points']))"
   ]
  },
  {
   "cell_type": "code",
   "execution_count": 232,
   "metadata": {},
   "outputs": [
    {
     "name": "stdout",
     "output_type": "stream",
     "text": [
      "RMSE: 2.632903\n",
      "MAE: 1.826975\n"
     ]
    }
   ],
   "source": [
    "# excludes 0 minute all history rows\n",
    "# validation only >0 minute rows\n",
    "preds = xg_reg.predict(X_test)\n",
    "print(\"RMSE: %f\" % (r_mse(preds, y_test['total_points'])))\n",
    "print(\"MAE: %f\" % mae(preds, y_test['total_points']))"
   ]
  },
  {
   "cell_type": "code",
   "execution_count": 153,
   "metadata": {},
   "outputs": [
    {
     "name": "stdout",
     "output_type": "stream",
     "text": [
      "1.67148\n",
      "1.830329\n",
      "1.694619\n",
      "1.910426\n"
     ]
    }
   ],
   "source": [
    "for i in range(1,5):\n",
    "    position = 'position_' + str(i)\n",
    "    mask = X_test[position] == 1\n",
    "    print(r_mse(xg_reg.predict(X_test[mask]), y_test[mask]['total_points']))"
   ]
  },
  {
   "cell_type": "code",
   "execution_count": 170,
   "metadata": {},
   "outputs": [],
   "source": [
    "mask = (X_test['total_points_pg_last_10'] > X_test['total_points_pg_last_10'].mean() + 2)"
   ]
  },
  {
   "cell_type": "code",
   "execution_count": 175,
   "metadata": {},
   "outputs": [
    {
     "data": {
      "text/plain": [
       "102.33333333333333"
      ]
     },
     "execution_count": 175,
     "metadata": {},
     "output_type": "execute_result"
    }
   ],
   "source": [
    "sum(X_test['total_points_pg_last_10'] > X_test['total_points_pg_last_10'].mean())/6"
   ]
  },
  {
   "cell_type": "code",
   "execution_count": 176,
   "metadata": {},
   "outputs": [
    {
     "data": {
      "text/plain": [
       "610.6666666666666"
      ]
     },
     "execution_count": 176,
     "metadata": {},
     "output_type": "execute_result"
    }
   ],
   "source": [
    "len(X_test)/6"
   ]
  },
  {
   "cell_type": "code",
   "execution_count": 4,
   "metadata": {},
   "outputs": [],
   "source": [
    "lag_train_df, team_lag_vars = team_lag_features(train_df, ['xg'], ['all', 3, 5, 10, 20])"
   ]
  },
  {
   "cell_type": "code",
   "execution_count": 13,
   "metadata": {},
   "outputs": [
    {
     "data": {
      "text/html": [
       "<div>\n",
       "<style scoped>\n",
       "    .dataframe tbody tr th:only-of-type {\n",
       "        vertical-align: middle;\n",
       "    }\n",
       "\n",
       "    .dataframe tbody tr th {\n",
       "        vertical-align: top;\n",
       "    }\n",
       "\n",
       "    .dataframe thead th {\n",
       "        text-align: right;\n",
       "    }\n",
       "</style>\n",
       "<table border=\"1\" class=\"dataframe\">\n",
       "  <thead>\n",
       "    <tr style=\"text-align: right;\">\n",
       "      <th></th>\n",
       "      <th>season</th>\n",
       "      <th>gw</th>\n",
       "      <th>team</th>\n",
       "      <th>xg_team_conceded_pg_last_10</th>\n",
       "    </tr>\n",
       "  </thead>\n",
       "  <tbody>\n",
       "    <tr>\n",
       "      <th>75895</th>\n",
       "      <td>2021</td>\n",
       "      <td>17</td>\n",
       "      <td>Manchester City</td>\n",
       "      <td>0.59</td>\n",
       "    </tr>\n",
       "    <tr>\n",
       "      <th>75912</th>\n",
       "      <td>2021</td>\n",
       "      <td>17</td>\n",
       "      <td>Chelsea</td>\n",
       "      <td>0.77</td>\n",
       "    </tr>\n",
       "    <tr>\n",
       "      <th>75896</th>\n",
       "      <td>2021</td>\n",
       "      <td>17</td>\n",
       "      <td>Liverpool</td>\n",
       "      <td>0.97</td>\n",
       "    </tr>\n",
       "    <tr>\n",
       "      <th>75931</th>\n",
       "      <td>2021</td>\n",
       "      <td>17</td>\n",
       "      <td>Tottenham Hotspur</td>\n",
       "      <td>1.00</td>\n",
       "    </tr>\n",
       "    <tr>\n",
       "      <th>75884</th>\n",
       "      <td>2021</td>\n",
       "      <td>17</td>\n",
       "      <td>Brighton and Hove Albion</td>\n",
       "      <td>1.06</td>\n",
       "    </tr>\n",
       "    <tr>\n",
       "      <th>75888</th>\n",
       "      <td>2021</td>\n",
       "      <td>17</td>\n",
       "      <td>Manchester United</td>\n",
       "      <td>1.13</td>\n",
       "    </tr>\n",
       "    <tr>\n",
       "      <th>75898</th>\n",
       "      <td>2021</td>\n",
       "      <td>17</td>\n",
       "      <td>Aston Villa</td>\n",
       "      <td>1.17</td>\n",
       "    </tr>\n",
       "    <tr>\n",
       "      <th>75890</th>\n",
       "      <td>2021</td>\n",
       "      <td>17</td>\n",
       "      <td>Wolverhampton Wanderers</td>\n",
       "      <td>1.20</td>\n",
       "    </tr>\n",
       "    <tr>\n",
       "      <th>75910</th>\n",
       "      <td>2021</td>\n",
       "      <td>17</td>\n",
       "      <td>Newcastle United</td>\n",
       "      <td>1.23</td>\n",
       "    </tr>\n",
       "    <tr>\n",
       "      <th>75899</th>\n",
       "      <td>2021</td>\n",
       "      <td>17</td>\n",
       "      <td>Arsenal</td>\n",
       "      <td>1.23</td>\n",
       "    </tr>\n",
       "    <tr>\n",
       "      <th>75905</th>\n",
       "      <td>2021</td>\n",
       "      <td>17</td>\n",
       "      <td>Southampton</td>\n",
       "      <td>1.24</td>\n",
       "    </tr>\n",
       "    <tr>\n",
       "      <th>75894</th>\n",
       "      <td>2021</td>\n",
       "      <td>17</td>\n",
       "      <td>Leicester City</td>\n",
       "      <td>1.34</td>\n",
       "    </tr>\n",
       "    <tr>\n",
       "      <th>75889</th>\n",
       "      <td>2021</td>\n",
       "      <td>17</td>\n",
       "      <td>Everton</td>\n",
       "      <td>1.36</td>\n",
       "    </tr>\n",
       "    <tr>\n",
       "      <th>75917</th>\n",
       "      <td>2021</td>\n",
       "      <td>17</td>\n",
       "      <td>Crystal Palace</td>\n",
       "      <td>1.49</td>\n",
       "    </tr>\n",
       "    <tr>\n",
       "      <th>75885</th>\n",
       "      <td>2021</td>\n",
       "      <td>17</td>\n",
       "      <td>West Ham United</td>\n",
       "      <td>1.52</td>\n",
       "    </tr>\n",
       "    <tr>\n",
       "      <th>75887</th>\n",
       "      <td>2021</td>\n",
       "      <td>17</td>\n",
       "      <td>Sheffield United</td>\n",
       "      <td>1.66</td>\n",
       "    </tr>\n",
       "    <tr>\n",
       "      <th>75897</th>\n",
       "      <td>2021</td>\n",
       "      <td>17</td>\n",
       "      <td>West Bromwich Albion</td>\n",
       "      <td>1.82</td>\n",
       "    </tr>\n",
       "    <tr>\n",
       "      <th>75891</th>\n",
       "      <td>2021</td>\n",
       "      <td>17</td>\n",
       "      <td>Leeds</td>\n",
       "      <td>1.87</td>\n",
       "    </tr>\n",
       "  </tbody>\n",
       "</table>\n",
       "</div>"
      ],
      "text/plain": [
       "      season  gw                      team  xg_team_conceded_pg_last_10\n",
       "75895   2021  17           Manchester City                         0.59\n",
       "75912   2021  17                   Chelsea                         0.77\n",
       "75896   2021  17                 Liverpool                         0.97\n",
       "75931   2021  17         Tottenham Hotspur                         1.00\n",
       "75884   2021  17  Brighton and Hove Albion                         1.06\n",
       "75888   2021  17         Manchester United                         1.13\n",
       "75898   2021  17               Aston Villa                         1.17\n",
       "75890   2021  17   Wolverhampton Wanderers                         1.20\n",
       "75910   2021  17          Newcastle United                         1.23\n",
       "75899   2021  17                   Arsenal                         1.23\n",
       "75905   2021  17               Southampton                         1.24\n",
       "75894   2021  17            Leicester City                         1.34\n",
       "75889   2021  17                   Everton                         1.36\n",
       "75917   2021  17            Crystal Palace                         1.49\n",
       "75885   2021  17           West Ham United                         1.52\n",
       "75887   2021  17          Sheffield United                         1.66\n",
       "75897   2021  17      West Bromwich Albion                         1.82\n",
       "75891   2021  17                     Leeds                         1.87"
      ]
     },
     "execution_count": 13,
     "metadata": {},
     "output_type": "execute_result"
    }
   ],
   "source": [
    "lag_train_df[['season', 'gw', 'team', 'xg_team_conceded_pg_last_10']][(lag_train_df['season'] == '2021') & (lag_train_df['gw'] == 17)].drop_duplicates().sort_values('xg_team_conceded_pg_last_10')"
   ]
  },
  {
   "cell_type": "code",
   "execution_count": 556,
   "metadata": {},
   "outputs": [],
   "source": [
    "# train_df[(train_df['season'] == '2021')][['team', 'xg']].groupby(['team']).sum()"
   ]
  },
  {
   "cell_type": "code",
   "execution_count": 557,
   "metadata": {},
   "outputs": [],
   "source": [
    "# train_df[(train_df['team'] == 'Burnley') & (train_df['season'] == '2021')][['player', 'xg']].groupby(['player']).sum()"
   ]
  },
  {
   "cell_type": "code",
   "execution_count": 558,
   "metadata": {},
   "outputs": [],
   "source": [
    "# train_df[(train_df['team'] == 'Burnley') & (train_df['season'] == '2021') & (train_df['player'] == 'Charlie Taylor')][['gw', 'xg']]"
   ]
  }
 ],
 "metadata": {
  "kernelspec": {
   "display_name": "Python 3",
   "language": "python",
   "name": "python3"
  },
  "language_info": {
   "codemirror_mode": {
    "name": "ipython",
    "version": 3
   },
   "file_extension": ".py",
   "mimetype": "text/x-python",
   "name": "python",
   "nbconvert_exporter": "python",
   "pygments_lexer": "ipython3",
   "version": "3.7.9"
  }
 },
 "nbformat": 4,
 "nbformat_minor": 2
}
